{
 "cells": [
  {
   "cell_type": "code",
   "execution_count": 4,
   "metadata": {},
   "outputs": [],
   "source": [
    "import time\n",
    "from tqdm import tqdm\n",
    "import numpy as np\n",
    "from scipy.linalg import expm\n",
    "import pandas as pd"
   ]
  },
  {
   "cell_type": "code",
   "execution_count": 2,
   "metadata": {},
   "outputs": [
    {
     "name": "stderr",
     "output_type": "stream",
     "text": [
      "  0%|          | 0/12 [00:00<?, ?it/s]"
     ]
    },
    {
     "name": "stderr",
     "output_type": "stream",
     "text": [
      " 83%|████████▎ | 10/12 [09:22<03:29, 104.89s/it]/home/hxy/anaconda3/lib/python3.11/site-packages/numpy/core/_methods.py:49: RuntimeWarning: overflow encountered in reduce\n",
      "  return umr_sum(a, axis, dtype, out, keepdims, initial, where)\n",
      " 92%|█████████▏| 11/12 [18:17<03:22, 202.22s/it]/home/hxy/anaconda3/lib/python3.11/site-packages/scipy/linalg/_matfuncs.py:345: RuntimeWarning: overflow encountered in matmul\n",
      "  m, s = pick_pade_structure(Am)\n",
      "100%|██████████| 12/12 [30:42<00:00, 153.53s/it]\n"
     ]
    }
   ],
   "source": [
    "def test_cpu(A, num):    \n",
    "    lt = []\n",
    "    for i in range(num):\n",
    "        start = time.time()\n",
    "        expm(A);\n",
    "        end = time.time()\n",
    "        lt.append(end - start)\n",
    "    return lt\n",
    "\n",
    "N_sequence_complex = [\n",
    "    16, 32, 64, 128, 256,\n",
    "    512, 1024, 2048, 4096,\n",
    "    6144, 7000, 7500 # 请根据您实际能跑通的最大值进行调整，并在末尾添加一些中间点使曲线更平滑\n",
    "]\n",
    "time_cpus_single = []\n",
    "for N in tqdm(N_sequence_complex):\n",
    "    A = np.ones(shape = (N,N), dtype = np.complex64) - np.eye(N,dtype= np.complex64)\n",
    "    # expMator = ExpMatComplex64(N)\n",
    "    A = 1j*A\n",
    "    time_cpus_single.append(test_cpu(A, 5))"
   ]
  },
  {
   "cell_type": "code",
   "execution_count": 15,
   "metadata": {},
   "outputs": [
    {
     "name": "stderr",
     "output_type": "stream",
     "text": [
      "100%|██████████| 12/12 [1:03:49<00:00, 319.10s/it]\n"
     ]
    }
   ],
   "source": [
    "time_cpus_double = []\n",
    "for N in tqdm(N_sequence_complex):\n",
    "    A = np.ones(shape = (N,N), dtype = np.complex128) - np.eye(N,dtype= np.complex128)\n",
    "    A = 1j*A\n",
    "    time_cpus_double.append(test_cpu(A, 5))"
   ]
  },
  {
   "cell_type": "code",
   "execution_count": 9,
   "metadata": {},
   "outputs": [],
   "source": [
    "df_complex64 = pd.DataFrame(time_cpus_single)\n",
    "df_complex64.insert(0,\"N_lt\",N_sequence_complex)\n",
    "df_complex64.to_csv(\"scipyexpm_single_perf.csv\")"
   ]
  },
  {
   "cell_type": "code",
   "execution_count": 20,
   "metadata": {},
   "outputs": [],
   "source": [
    "df_complex128 = pd.DataFrame(time_cpus_double)\n",
    "df_complex128.insert(0,\"N_lt\",N_sequence_complex)\n",
    "df_complex128.to_csv(\"scipyexpm_double_perf.csv\")"
   ]
  },
  {
   "cell_type": "code",
   "execution_count": 14,
   "metadata": {},
   "outputs": [],
   "source": [
    "df_complex64.to_csv(\"scipyexpm_single_perf.csv\")"
   ]
  },
  {
   "cell_type": "code",
   "execution_count": 21,
   "metadata": {},
   "outputs": [
    {
     "data": {
      "text/html": [
       "<div>\n",
       "<style scoped>\n",
       "    .dataframe tbody tr th:only-of-type {\n",
       "        vertical-align: middle;\n",
       "    }\n",
       "\n",
       "    .dataframe tbody tr th {\n",
       "        vertical-align: top;\n",
       "    }\n",
       "\n",
       "    .dataframe thead th {\n",
       "        text-align: right;\n",
       "    }\n",
       "</style>\n",
       "<table border=\"1\" class=\"dataframe\">\n",
       "  <thead>\n",
       "    <tr style=\"text-align: right;\">\n",
       "      <th></th>\n",
       "      <th>N_lt</th>\n",
       "      <th>0</th>\n",
       "      <th>1</th>\n",
       "      <th>2</th>\n",
       "      <th>3</th>\n",
       "      <th>4</th>\n",
       "    </tr>\n",
       "  </thead>\n",
       "  <tbody>\n",
       "    <tr>\n",
       "      <th>0</th>\n",
       "      <td>16</td>\n",
       "      <td>0.023705</td>\n",
       "      <td>0.000286</td>\n",
       "      <td>0.000270</td>\n",
       "      <td>0.000126</td>\n",
       "      <td>0.000091</td>\n",
       "    </tr>\n",
       "    <tr>\n",
       "      <th>1</th>\n",
       "      <td>32</td>\n",
       "      <td>0.002656</td>\n",
       "      <td>0.000567</td>\n",
       "      <td>0.000512</td>\n",
       "      <td>0.000395</td>\n",
       "      <td>0.000520</td>\n",
       "    </tr>\n",
       "    <tr>\n",
       "      <th>2</th>\n",
       "      <td>64</td>\n",
       "      <td>0.001031</td>\n",
       "      <td>0.000967</td>\n",
       "      <td>0.000841</td>\n",
       "      <td>0.000675</td>\n",
       "      <td>0.000777</td>\n",
       "    </tr>\n",
       "    <tr>\n",
       "      <th>3</th>\n",
       "      <td>128</td>\n",
       "      <td>0.002911</td>\n",
       "      <td>0.003176</td>\n",
       "      <td>0.007362</td>\n",
       "      <td>0.003108</td>\n",
       "      <td>0.002970</td>\n",
       "    </tr>\n",
       "    <tr>\n",
       "      <th>4</th>\n",
       "      <td>256</td>\n",
       "      <td>0.019455</td>\n",
       "      <td>0.017837</td>\n",
       "      <td>0.016955</td>\n",
       "      <td>0.076032</td>\n",
       "      <td>0.027929</td>\n",
       "    </tr>\n",
       "    <tr>\n",
       "      <th>5</th>\n",
       "      <td>512</td>\n",
       "      <td>0.152745</td>\n",
       "      <td>0.160962</td>\n",
       "      <td>0.161041</td>\n",
       "      <td>0.158292</td>\n",
       "      <td>0.160963</td>\n",
       "    </tr>\n",
       "    <tr>\n",
       "      <th>6</th>\n",
       "      <td>1024</td>\n",
       "      <td>0.964257</td>\n",
       "      <td>0.945114</td>\n",
       "      <td>0.978728</td>\n",
       "      <td>0.973552</td>\n",
       "      <td>0.970747</td>\n",
       "    </tr>\n",
       "    <tr>\n",
       "      <th>7</th>\n",
       "      <td>2048</td>\n",
       "      <td>7.768076</td>\n",
       "      <td>7.527602</td>\n",
       "      <td>8.005055</td>\n",
       "      <td>8.931245</td>\n",
       "      <td>7.527792</td>\n",
       "    </tr>\n",
       "    <tr>\n",
       "      <th>8</th>\n",
       "      <td>4096</td>\n",
       "      <td>57.459084</td>\n",
       "      <td>58.278774</td>\n",
       "      <td>58.186450</td>\n",
       "      <td>57.968999</td>\n",
       "      <td>59.455908</td>\n",
       "    </tr>\n",
       "    <tr>\n",
       "      <th>9</th>\n",
       "      <td>6144</td>\n",
       "      <td>180.328368</td>\n",
       "      <td>181.068851</td>\n",
       "      <td>181.346032</td>\n",
       "      <td>180.957678</td>\n",
       "      <td>180.568989</td>\n",
       "    </tr>\n",
       "    <tr>\n",
       "      <th>10</th>\n",
       "      <td>7000</td>\n",
       "      <td>235.822765</td>\n",
       "      <td>234.607833</td>\n",
       "      <td>234.578763</td>\n",
       "      <td>235.723993</td>\n",
       "      <td>235.525097</td>\n",
       "    </tr>\n",
       "    <tr>\n",
       "      <th>11</th>\n",
       "      <td>7500</td>\n",
       "      <td>292.494320</td>\n",
       "      <td>290.699449</td>\n",
       "      <td>290.265325</td>\n",
       "      <td>267.776526</td>\n",
       "      <td>269.227042</td>\n",
       "    </tr>\n",
       "  </tbody>\n",
       "</table>\n",
       "</div>"
      ],
      "text/plain": [
       "    N_lt           0           1           2           3           4\n",
       "0     16    0.023705    0.000286    0.000270    0.000126    0.000091\n",
       "1     32    0.002656    0.000567    0.000512    0.000395    0.000520\n",
       "2     64    0.001031    0.000967    0.000841    0.000675    0.000777\n",
       "3    128    0.002911    0.003176    0.007362    0.003108    0.002970\n",
       "4    256    0.019455    0.017837    0.016955    0.076032    0.027929\n",
       "5    512    0.152745    0.160962    0.161041    0.158292    0.160963\n",
       "6   1024    0.964257    0.945114    0.978728    0.973552    0.970747\n",
       "7   2048    7.768076    7.527602    8.005055    8.931245    7.527792\n",
       "8   4096   57.459084   58.278774   58.186450   57.968999   59.455908\n",
       "9   6144  180.328368  181.068851  181.346032  180.957678  180.568989\n",
       "10  7000  235.822765  234.607833  234.578763  235.723993  235.525097\n",
       "11  7500  292.494320  290.699449  290.265325  267.776526  269.227042"
      ]
     },
     "execution_count": 21,
     "metadata": {},
     "output_type": "execute_result"
    }
   ],
   "source": [
    "df_complex128"
   ]
  },
  {
   "cell_type": "code",
   "execution_count": 16,
   "metadata": {},
   "outputs": [
    {
     "data": {
      "text/plain": [
       "[[0.023705244064331055,\n",
       "  0.00028634071350097656,\n",
       "  0.0002701282501220703,\n",
       "  0.00012564659118652344,\n",
       "  9.059906005859375e-05],\n",
       " [0.0026559829711914062,\n",
       "  0.0005671977996826172,\n",
       "  0.0005118846893310547,\n",
       "  0.0003952980041503906,\n",
       "  0.0005195140838623047],\n",
       " [0.0010306835174560547,\n",
       "  0.0009670257568359375,\n",
       "  0.0008413791656494141,\n",
       "  0.0006754398345947266,\n",
       "  0.0007774829864501953],\n",
       " [0.0029113292694091797,\n",
       "  0.003176450729370117,\n",
       "  0.007361650466918945,\n",
       "  0.0031080245971679688,\n",
       "  0.002969503402709961],\n",
       " [0.019455432891845703,\n",
       "  0.017836570739746094,\n",
       "  0.016954898834228516,\n",
       "  0.07603216171264648,\n",
       "  0.027928829193115234],\n",
       " [0.15274500846862793,\n",
       "  0.16096162796020508,\n",
       "  0.1610407829284668,\n",
       "  0.15829205513000488,\n",
       "  0.1609630584716797],\n",
       " [0.964257001876831,\n",
       "  0.9451143741607666,\n",
       "  0.9787278175354004,\n",
       "  0.9735522270202637,\n",
       "  0.9707472324371338],\n",
       " [7.768076181411743,\n",
       "  7.527601957321167,\n",
       "  8.005054950714111,\n",
       "  8.93124508857727,\n",
       "  7.52779221534729],\n",
       " [57.459083795547485,\n",
       "  58.27877402305603,\n",
       "  58.186450242996216,\n",
       "  57.96899938583374,\n",
       "  59.45590829849243],\n",
       " [180.32836842536926,\n",
       "  181.0688512325287,\n",
       "  181.346031665802,\n",
       "  180.95767760276794,\n",
       "  180.5689890384674],\n",
       " [235.82276511192322,\n",
       "  234.6078326702118,\n",
       "  234.57876300811768,\n",
       "  235.7239933013916,\n",
       "  235.52509689331055],\n",
       " [292.49432039260864,\n",
       "  290.6994490623474,\n",
       "  290.2653250694275,\n",
       "  267.7765259742737,\n",
       "  269.2270419597626]]"
      ]
     },
     "execution_count": 16,
     "metadata": {},
     "output_type": "execute_result"
    }
   ],
   "source": [
    "time_cpus_double"
   ]
  }
 ],
 "metadata": {
  "kernelspec": {
   "display_name": "base",
   "language": "python",
   "name": "python3"
  },
  "language_info": {
   "codemirror_mode": {
    "name": "ipython",
    "version": 3
   },
   "file_extension": ".py",
   "mimetype": "text/x-python",
   "name": "python",
   "nbconvert_exporter": "python",
   "pygments_lexer": "ipython3",
   "version": "3.11.7"
  }
 },
 "nbformat": 4,
 "nbformat_minor": 2
}
