{
 "cells": [
  {
   "cell_type": "code",
   "execution_count": 9,
   "metadata": {},
   "outputs": [],
   "source": [
    "from FastCTQW.fastexpm import ExpMatFloat32\n",
    "from scipy.linalg import expm"
   ]
  },
  {
   "cell_type": "code",
   "execution_count": 11,
   "metadata": {},
   "outputs": [
    {
     "name": "stdout",
     "output_type": "stream",
     "text": [
      "Random Matrix, N = 16: \n",
      "  L2 Norm (Frobenius): 5.9241e-05\n",
      "  L_inf Norm (Max Row Sum): 8.7321e-05\n",
      "  Max Norm (Element-wise): 1.9073e-05\n",
      "Random Matrix, N = 32: \n",
      "  L2 Norm (Frobenius): 5.3926e-04\n",
      "  L_inf Norm (Max Row Sum): 9.6679e-04\n",
      "  Max Norm (Element-wise): 9.5367e-05\n",
      "Random Matrix, N = 64: \n",
      "  L2 Norm (Frobenius): 1.1055e-02\n",
      "  L_inf Norm (Max Row Sum): 1.6949e-02\n",
      "  Max Norm (Element-wise): 1.0071e-03\n",
      "Random Matrix, N = 128: \n",
      "  L2 Norm (Frobenius): 1.6934e+00\n",
      "  L_inf Norm (Max Row Sum): 2.7122e+00\n",
      "  Max Norm (Element-wise): 7.0312e-02\n",
      "Random Matrix, N = 256: \n",
      "  L2 Norm (Frobenius): 5.5963e+02\n",
      "  L_inf Norm (Max Row Sum): 1.4237e+03\n",
      "  Max Norm (Element-wise): 2.4375e+01\n",
      "Random Matrix, N = 512: \n",
      "  L2 Norm (Frobenius): 2.8851e+10\n",
      "  L_inf Norm (Max Row Sum): 5.9591e+10\n",
      "  Max Norm (Element-wise): 4.3983e+08\n",
      "Random Matrix, N = 1024: \n",
      "  L2 Norm (Frobenius): 8.3667e+14\n",
      "  L_inf Norm (Max Row Sum): 2.1256e+15\n",
      "  Max Norm (Element-wise): 8.4173e+12\n"
     ]
    }
   ],
   "source": [
    "import numpy as np\n",
    "MATRIX_SIZES = [16, 32, 64, 128, 256, 512, 1024]\n",
    "for N in MATRIX_SIZES:\n",
    "    A = np.random.normal(size = (N,N)).astype(np.float32)\n",
    "    expMator = ExpMatFloat32(N)\n",
    "    eA = expm(A)\n",
    "    my_eA = expMator.run(A).reshape(N,N)\n",
    "    error_matrix = eA - my_eA\n",
    "    l2_norm = np.linalg.norm(eA-my_eA)\n",
    "    l_inf_norm = np.linalg.norm(eA - my_eA, ord = np.inf)\n",
    "    max_norm = np.max(np.abs(error_matrix))\n",
    "    print(f\"Random Matrix, N = {N}: \")\n",
    "    print(f\"  L2 Norm (Frobenius): {l2_norm:.4e}\")\n",
    "    print(f\"  L_inf Norm (Max Row Sum): {l_inf_norm:.4e}\")\n",
    "    print(f\"  Max Norm (Element-wise): {max_norm:.4e}\")\n",
    "    expMator.free()"
   ]
  },
  {
   "cell_type": "code",
   "execution_count": 32,
   "metadata": {},
   "outputs": [],
   "source": [
    "from cupyx.scipy.linalg import expm as cu_expm\n",
    "import cupy as cp"
   ]
  },
  {
   "cell_type": "code",
   "execution_count": 29,
   "metadata": {},
   "outputs": [],
   "source": [
    "N = 250\n",
    "A = np.random.normal(size = (N,N)).astype(np.float32)\n",
    "expMator = ExpMatFloat32(N)\n",
    "eA = expm(A)\n",
    "my_eA = expMator.run(A).reshape(N,N)\n",
    "error_matrix = eA - my_eA\n",
    "l2_norm = np.linalg.norm(eA-my_eA)\n",
    "l_inf_norm = np.linalg.norm(eA - my_eA, ord = np.inf)\n",
    "max_norm = np.max(np.abs(error_matrix))"
   ]
  },
  {
   "cell_type": "code",
   "execution_count": 30,
   "metadata": {},
   "outputs": [
    {
     "data": {
      "text/plain": [
       "array([[-1.40183506e+04,  4.32888281e+03,  1.52622490e+04, ...,\n",
       "         6.29795977e+04,  5.13595781e+04,  7.24717734e+04],\n",
       "       [ 3.81726328e+04, -3.37673633e+04, -3.49952422e+04, ...,\n",
       "         1.65710594e+05,  5.32116089e+01,  9.54032656e+04],\n",
       "       [ 4.84020391e+04,  6.23716406e+04, -9.80892578e+04, ...,\n",
       "         3.69080508e+04,  5.79456445e+04, -2.84325215e+04],\n",
       "       ...,\n",
       "       [ 1.47862984e+05,  8.03399766e+04, -4.44608516e+04, ...,\n",
       "         3.47785742e+03,  9.21236816e+03, -1.03465312e+04],\n",
       "       [-2.80091719e+04, -3.66422539e+04,  4.48944883e+04, ...,\n",
       "         7.78525156e+04,  3.94817188e+04,  9.09396328e+04],\n",
       "       [-1.95100645e+04, -5.45394609e+04,  4.71549766e+04, ...,\n",
       "         1.04534234e+05,  7.52267891e+04,  2.86255938e+05]],\n",
       "      shape=(250, 250), dtype=float32)"
      ]
     },
     "execution_count": 30,
     "metadata": {},
     "output_type": "execute_result"
    }
   ],
   "source": [
    "my_eA"
   ]
  },
  {
   "cell_type": "code",
   "execution_count": 31,
   "metadata": {},
   "outputs": [
    {
     "data": {
      "text/plain": [
       "array([[-1.40186309e+04,  4.32928613e+03,  1.52622686e+04, ...,\n",
       "         6.29796602e+04,  5.13589766e+04,  7.24716719e+04],\n",
       "       [ 3.81726484e+04, -3.37675664e+04, -3.49941289e+04, ...,\n",
       "         1.65711000e+05,  5.33012581e+01,  9.54037109e+04],\n",
       "       [ 4.84034688e+04,  6.23716289e+04, -9.80903516e+04, ...,\n",
       "         3.69078789e+04,  5.79464453e+04, -2.84332559e+04],\n",
       "       ...,\n",
       "       [ 1.47863484e+05,  8.03395234e+04, -4.44617539e+04, ...,\n",
       "         3.47819653e+03,  9.21265820e+03, -1.03467373e+04],\n",
       "       [-2.80091484e+04, -3.66418906e+04,  4.48943242e+04, ...,\n",
       "         7.78528125e+04,  3.94816133e+04,  9.09404062e+04],\n",
       "       [-1.95098340e+04, -5.45389531e+04,  4.71544570e+04, ...,\n",
       "         1.04533695e+05,  7.52256250e+04,  2.86257688e+05]],\n",
       "      shape=(250, 250), dtype=float32)"
      ]
     },
     "execution_count": 31,
     "metadata": {},
     "output_type": "execute_result"
    }
   ],
   "source": [
    "eA"
   ]
  },
  {
   "cell_type": "code",
   "execution_count": 3,
   "metadata": {},
   "outputs": [],
   "source": [
    "eA = np.random.normal(size = (100,100))\n",
    "my_eA =  np.random.normal(size = (100,100))\n",
    "error_matrix = eA - my_eA\n",
    "l2_norm = np.linalg.norm(eA-my_eA)\n",
    "l_inf_norm = np.linalg.norm(eA - my_eA, ord = np.inf)\n",
    "max_norm = np.max(np.abs(error_matrix))"
   ]
  },
  {
   "cell_type": "code",
   "execution_count": 16,
   "metadata": {},
   "outputs": [
    {
     "ename": "ImportError",
     "evalue": "cannot import name 'fastexpm' from 'fastexpm_old' (consider renaming '/home/hxy/expm/pade/CTQW_project/FastCTQW_project/test/fastexpm_old/__init__.py' if it has the same name as a library you intended to import)",
     "output_type": "error",
     "traceback": [
      "\u001b[31m---------------------------------------------------------------------------\u001b[39m",
      "\u001b[31mImportError\u001b[39m                               Traceback (most recent call last)",
      "\u001b[36mCell\u001b[39m\u001b[36m \u001b[39m\u001b[32mIn[16]\u001b[39m\u001b[32m, line 1\u001b[39m\n\u001b[32m----> \u001b[39m\u001b[32m1\u001b[39m \u001b[38;5;28;01mimport\u001b[39;00m\u001b[38;5;250m \u001b[39m\u001b[34;01mfastexpm_old\u001b[39;00m\n\u001b[32m      2\u001b[39m \u001b[38;5;28;01mimport\u001b[39;00m\u001b[38;5;250m \u001b[39m\u001b[34;01mnumpy\u001b[39;00m\u001b[38;5;250m \u001b[39m\u001b[38;5;28;01mas\u001b[39;00m\u001b[38;5;250m \u001b[39m\u001b[34;01mnp\u001b[39;00m\n\u001b[32m      3\u001b[39m \u001b[38;5;28;01mimport\u001b[39;00m\u001b[38;5;250m \u001b[39m\u001b[34;01mcupyx\u001b[39;00m\u001b[34;01m.\u001b[39;00m\u001b[34;01mscipy\u001b[39;00m\u001b[34;01m.\u001b[39;00m\u001b[34;01mlinalg\u001b[39;00m \n",
      "\u001b[36mFile \u001b[39m\u001b[32m/home/hxy/expm/pade/CTQW_project/FastCTQW_project/test/fastexpm_old/__init__.py:1\u001b[39m\n\u001b[32m----> \u001b[39m\u001b[32m1\u001b[39m \u001b[38;5;28;01mfrom\u001b[39;00m\u001b[38;5;250m \u001b[39m\u001b[34;01m.\u001b[39;00m\u001b[34;01m_wrapper\u001b[39;00m\u001b[38;5;250m \u001b[39m\u001b[38;5;28;01mimport\u001b[39;00m ExpMatFloat32, ExpMatFloat64, ExpMatComplex64, ExpMatComplex128 \n\u001b[32m      3\u001b[39m __version__ = \u001b[33m\"\u001b[39m\u001b[33m2025.6012.alpha\u001b[39m\u001b[33m\"\u001b[39m\n\u001b[32m      4\u001b[39m __author__ = \u001b[33m\"\u001b[39m\u001b[33mXiangyang He\u001b[39m\u001b[33m\"\u001b[39m\n",
      "\u001b[36mFile \u001b[39m\u001b[32m/home/hxy/expm/pade/CTQW_project/FastCTQW_project/test/fastexpm_old/_wrapper.py:8\u001b[39m\n\u001b[32m      5\u001b[39m Matrix = NDArray[np.floating | np.integer]\n\u001b[32m      6\u001b[39m SquareMatrix = Annotated[Matrix, \u001b[33m\"\u001b[39m\u001b[33mA.shape[0] == A.shape[1]\u001b[39m\u001b[33m\"\u001b[39m]\n\u001b[32m----> \u001b[39m\u001b[32m8\u001b[39m \u001b[38;5;28;01mfrom\u001b[39;00m\u001b[38;5;250m \u001b[39m\u001b[34;01m.\u001b[39;00m\u001b[38;5;250m \u001b[39m\u001b[38;5;28;01mimport\u001b[39;00m fastexpm \n\u001b[32m      9\u001b[39m \u001b[38;5;66;03m#  ExpMatFloat32, ExpMatFloat64, ExpMatComplex64, ExpMatComplex128 \u001b[39;00m\n\u001b[32m     11\u001b[39m \u001b[38;5;28;01mclass\u001b[39;00m\u001b[38;5;250m \u001b[39m\u001b[34;01mExpMatFloat32\u001b[39;00m:\n",
      "\u001b[31mImportError\u001b[39m: cannot import name 'fastexpm' from 'fastexpm_old' (consider renaming '/home/hxy/expm/pade/CTQW_project/FastCTQW_project/test/fastexpm_old/__init__.py' if it has the same name as a library you intended to import)"
     ]
    }
   ],
   "source": [
    "import fastexpm_old\n",
    "import numpy as np\n",
    "import cupyx.scipy.linalg \n",
    "import math\n",
    "import cupy\n",
    "import cmath\n",
    "import gc\n",
    "import networkx as nx\n",
    "import time\n",
    "import qwak_cupy\n",
    "def matrix_exp_taylor(A: np.ndarray, m: int = 20, tol: float = 1e-10) -> np.ndarray:\n",
    "    \"\"\"\n",
    "    使用泰勒级数结合缩放和平方法计算矩阵指数 exp(A)`。\n",
    "\n",
    "    泰勒级数：exp(A) ≈ I + A + A^2/2! + ... + A^m/m!\n",
    "    缩放和平方法：先计算 exp(A/2^s)，然后通过 s 次平方得到 exp(A)`。\n",
    "\n",
    "    参数:\n",
    "        A: 输入的方阵，类型为 numpy.ndarray。\n",
    "        m: 泰勒级数的最大阶数（默认 20）。\n",
    "        tol: 收敛容差，当前项范数小于此值时停止迭代（默认 1e-10）。\n",
    "\n",
    "    返回:\n",
    "        expA: 计算得到的 exp(A) 的近似值。\n",
    "    \"\"\"\n",
    "    assert A.shape[0] == A.shape[1], \"矩阵 A 必须为方阵\"\n",
    "    n = A.shape[0]\n",
    "\n",
    "    # 计算矩阵范数并确定缩放因子 s\n",
    "    norm_A = np.linalg.norm(A, ord=1)  # 使用 1-范数\n",
    "    if norm_A == 0:\n",
    "        return np.eye(n, dtype=A.dtype)\n",
    "\n",
    "    # 确定缩放因子 s，使得 A/2^s 的范数较小\n",
    "    s = max(0, int(np.ceil(np.log2(norm_A))))  # 确保范数归一化到 [0,1]\n",
    "    scaling_factor = 2 ** s\n",
    "    # 缩放矩阵\n",
    "    A_scaled = A / scaling_factor\n",
    "\n",
    "    # 初始化泰勒级数\n",
    "    expA_scaled = np.eye(n, dtype=A.dtype)  # 单位矩阵 I\n",
    "    term = np.eye(n, dtype=A.dtype)    # 当前项 A^k / k!\n",
    "\n",
    "    # 计算泰勒级数展开\n",
    "    for k in range(1, m + 1):\n",
    "        term = term @ A_scaled / k  # 递推计算 A_scaled^k / k!\n",
    "        expA_scaled += term\n",
    "        # 检查收敛\n",
    "        if np.linalg.norm(term, ord='fro') < tol:\n",
    "            break\n",
    "\n",
    "    # 通过 s 次平方恢复 exp(A)\n",
    "    expA = expA_scaled.copy()\n",
    "    for _ in range(s):\n",
    "        expA = expA @ expA\n",
    "\n",
    "    return expA"
   ]
  },
  {
   "cell_type": "code",
   "execution_count": 3,
   "metadata": {},
   "outputs": [],
   "source": [
    "from scipy.linalg import expm\n"
   ]
  },
  {
   "cell_type": "code",
   "execution_count": 4,
   "metadata": {},
   "outputs": [],
   "source": [
    "# G = nx.gnp_random_graph(n = 10000, p = 0.05)\n",
    "# A = nx.to_numpy_array(G).astype(np.float32)\n",
    "N = 1000\n",
    "A = np.random.normal(loc = 0, scale=0.05, size = (N, N)).astype(np.float64)*1j"
   ]
  },
  {
   "cell_type": "code",
   "execution_count": 5,
   "metadata": {},
   "outputs": [],
   "source": [
    "A_cupy = cupy.array(A)\n",
    "eA_cupy = cupyx.scipy.linalg.expm(A_cupy).get()"
   ]
  },
  {
   "cell_type": "code",
   "execution_count": 6,
   "metadata": {},
   "outputs": [],
   "source": [
    "expMat_Complex64 = fastexpm.ExpMatComplex128(N)"
   ]
  },
  {
   "cell_type": "code",
   "execution_count": 7,
   "metadata": {},
   "outputs": [],
   "source": [
    "my_eA = expMat_Complex64.run(A).reshape(N,N)"
   ]
  },
  {
   "cell_type": "code",
   "execution_count": 8,
   "metadata": {},
   "outputs": [],
   "source": [
    "eA = expm(A)"
   ]
  },
  {
   "cell_type": "code",
   "execution_count": 9,
   "metadata": {},
   "outputs": [
    {
     "data": {
      "text/plain": [
       "np.float64(9.513149067526091e-07)"
      ]
     },
     "execution_count": 9,
     "metadata": {},
     "output_type": "execute_result"
    }
   ],
   "source": [
    "np.linalg.norm(eA_cupy - my_eA)"
   ]
  },
  {
   "cell_type": "code",
   "execution_count": 10,
   "metadata": {},
   "outputs": [
    {
     "data": {
      "text/plain": [
       "np.float64(9.513148776615838e-07)"
      ]
     },
     "execution_count": 10,
     "metadata": {},
     "output_type": "execute_result"
    }
   ],
   "source": [
    "np.linalg.norm(my_eA - eA)"
   ]
  },
  {
   "cell_type": "code",
   "execution_count": 11,
   "metadata": {},
   "outputs": [
    {
     "data": {
      "text/plain": [
       "np.float64(1.9827438182888525e-12)"
      ]
     },
     "execution_count": 11,
     "metadata": {},
     "output_type": "execute_result"
    }
   ],
   "source": [
    "np.linalg.norm(eA - eA_cupy)"
   ]
  },
  {
   "cell_type": "code",
   "execution_count": 8,
   "metadata": {},
   "outputs": [],
   "source": [
    "import time\n",
    "from tqdm import tqdm\n",
    "import numpy as np\n",
    "from scipy.linalg import expm\n",
    "from fastexpm import ExpMatFloat32,ExpMatFloat64, ExpMatComplex64, ExpMatComplex128\n",
    "import matplotlib.pyplot as plt\n",
    "import pandas as pd"
   ]
  },
  {
   "cell_type": "code",
   "execution_count": 5,
   "metadata": {},
   "outputs": [],
   "source": [
    "def test_cpu(A, num):    \n",
    "    lt = []\n",
    "    for i in range(num):\n",
    "        start = time.time()\n",
    "        expm(A);\n",
    "        end = time.time()\n",
    "        lt.append(end - start)\n",
    "    return lt\n",
    "    \n",
    "def test_gpu(expMator:ExpMatComplex64, A, num):\n",
    "    lt = []\n",
    "    for i in range(num):\n",
    "        time.sleep(0.2)\n",
    "        start = time.time()\n",
    "        expMator.run(A);\n",
    "        end = time.time()\n",
    "        lt.append(end - start)\n",
    "    return lt\n",
    "\n",
    "\n"
   ]
  },
  {
   "cell_type": "code",
   "execution_count": 12,
   "metadata": {},
   "outputs": [],
   "source": [
    "time_gpus = []\n",
    "\n",
    "N_sequence_complex = [\n",
    "    16, 32, 64, 128, 256,\n",
    "    512, 1024, 2048, 4096,\n",
    "    6144, 7000, 7500 # 请根据您实际能跑通的最大值进行调整，并在末尾添加一些中间点使曲线更平滑\n",
    "]"
   ]
  },
  {
   "cell_type": "code",
   "execution_count": 13,
   "metadata": {},
   "outputs": [
    {
     "name": "stderr",
     "output_type": "stream",
     "text": [
      "100%|██████████| 12/12 [1:04:29<00:00, 322.47s/it]\n"
     ]
    }
   ],
   "source": [
    "np.random.seed(seed = 0)\n",
    "for N in tqdm(N_sequence_complex):\n",
    "    A = np.ones(shape = (N,N), dtype = np.complex128) - np.eye(N,dtype= np.complex128)\n",
    "    # expMator = ExpMatComplex64(N)\n",
    "    A = 1j*A\n",
    "    expMator = ExpMatComplex128(N)\n",
    "    # time_cpus.append(test_cpu(A, 5))\n",
    "    time_gpus.append(test_gpu(expMator, A, 5))\n",
    "    expMator.free()"
   ]
  },
  {
   "cell_type": "code",
   "execution_count": 14,
   "metadata": {},
   "outputs": [],
   "source": [
    "time_gpus_arr = np.array(time_gpus)"
   ]
  },
  {
   "cell_type": "code",
   "execution_count": 15,
   "metadata": {},
   "outputs": [],
   "source": [
    "pd.DataFrame(time_gpus_arr).to_csv(\"fastexpm_double_perf.csv\")"
   ]
  },
  {
   "cell_type": "code",
   "execution_count": 24,
   "metadata": {},
   "outputs": [
    {
     "data": {
      "text/plain": [
       "[<matplotlib.lines.Line2D at 0x7f50343ced50>,\n",
       " <matplotlib.lines.Line2D at 0x7f50343cee90>,\n",
       " <matplotlib.lines.Line2D at 0x7f50343cefd0>,\n",
       " <matplotlib.lines.Line2D at 0x7f50343cf110>,\n",
       " <matplotlib.lines.Line2D at 0x7f50343cf250>,\n",
       " <matplotlib.lines.Line2D at 0x7f50343cf390>,\n",
       " <matplotlib.lines.Line2D at 0x7f50343cf4d0>,\n",
       " <matplotlib.lines.Line2D at 0x7f50343cf610>,\n",
       " <matplotlib.lines.Line2D at 0x7f50343cf750>,\n",
       " <matplotlib.lines.Line2D at 0x7f50343cf890>]"
      ]
     },
     "execution_count": 24,
     "metadata": {},
     "output_type": "execute_result"
    },
    {
     "data": {
      "image/png": "[encoded data removed]",
      "text/plain": [
       "<Figure size 640x480 with 1 Axes>"
      ]
     },
     "metadata": {},
     "output_type": "display_data"
    }
   ],
   "source": [
    "plt.plot(N_sequence_complex64,np.array(time_cpus) / np.array(time_gpus))"
   ]
  },
  {
   "cell_type": "code",
   "execution_count": 20,
   "metadata": {},
   "outputs": [
    {
     "data": {
      "text/plain": [
       "array([5.28657436e-02, 1.42672062e-02, 4.18066978e-03, 4.64689732e-02,\n",
       "       4.27937508e-03, 8.38160515e-03, 2.82738209e-02, 1.66586399e-01,\n",
       "       1.23373270e+00, 3.98390388e+00, 9.97519827e+00, 2.07316377e+01])"
      ]
     },
     "execution_count": 20,
     "metadata": {},
     "output_type": "execute_result"
    }
   ],
   "source": [
    "np.array(time_gpus)"
   ]
  },
  {
   "cell_type": "code",
   "execution_count": 3,
   "metadata": {},
   "outputs": [],
   "source": [
    "N = 7500\n",
    "A = 1j*(np.ones(shape = (N,N), dtype = np.complex128) - np.eye(N))\n",
    "expMator = ExpMatComplex128(N)\n",
    "expMator.run(A)\n",
    "expMator.free()"
   ]
  },
  {
   "cell_type": "code",
   "execution_count": 4,
   "metadata": {},
   "outputs": [
    {
     "data": {
      "text/plain": [
       "7.343888282775879"
      ]
     },
     "execution_count": 4,
     "metadata": {},
     "output_type": "execute_result"
    }
   ],
   "source": [
    "N = 11100\n",
    "(N*N*8) * 8 / (1024**3)"
   ]
  },
  {
   "cell_type": "code",
   "execution_count": 8,
   "metadata": {},
   "outputs": [
    {
     "data": {
      "text/plain": [
       "np.float64(7848.885271170678)"
      ]
     },
     "execution_count": 8,
     "metadata": {},
     "output_type": "execute_result"
    }
   ],
   "source": [
    "np.sqrt(7.343888282775879 * (1024**3) / (8*16))"
   ]
  },
  {
   "cell_type": "code",
   "execution_count": 7,
   "metadata": {},
   "outputs": [
    {
     "data": {
      "text/plain": [
       "7.212162017822266"
      ]
     },
     "execution_count": 7,
     "metadata": {},
     "output_type": "execute_result"
    }
   ],
   "source": [
    "N = 11000\n",
    "N * N * 8 * 8 / (1024**3)"
   ]
  },
  {
   "cell_type": "code",
   "execution_count": 15,
   "metadata": {},
   "outputs": [],
   "source": [
    "expMator.free()"
   ]
  },
  {
   "cell_type": "code",
   "execution_count": 3,
   "metadata": {},
   "outputs": [
    {
     "name": "stderr",
     "output_type": "stream",
     "text": [
      "100%|██████████| 10/10 [11:08<00:00, 66.84s/it] \n"
     ]
    }
   ],
   "source": [
    "time_gpus = []\n",
    "\n",
    "A = 1j*(np.ones(shape = (100,100), dtype = np.complex64) - np.eye(100))\n",
    "expMator = ExpMatComplex64(100)\n",
    "expMator.run(A)\n",
    "expMator.free()\n",
    "for N in tqdm(np.arange(1000, 10000 + 1000, 1000)):\n",
    "    A = 1j*(np.ones(shape = (N,N), dtype = np.complex64) - np.eye(N))\n",
    "    expMator = ExpMatComplex64(N)\n",
    "    time_gpus.append(test_gpu(expMator, A, 10))\n",
    "    expMator.free()"
   ]
  },
  {
   "cell_type": "code",
   "execution_count": 12,
   "metadata": {},
   "outputs": [],
   "source": [
    "time_gpus_min = np.array(time_gpus).min(axis = 1)"
   ]
  },
  {
   "cell_type": "code",
   "execution_count": 17,
   "metadata": {},
   "outputs": [
    {
     "data": {
      "text/plain": [
       "[<matplotlib.lines.Line2D at 0x7f44c864f9d0>,\n",
       " <matplotlib.lines.Line2D at 0x7f44c864fb10>,\n",
       " <matplotlib.lines.Line2D at 0x7f44c864fc50>,\n",
       " <matplotlib.lines.Line2D at 0x7f44c864fd90>,\n",
       " <matplotlib.lines.Line2D at 0x7f44c864fed0>,\n",
       " <matplotlib.lines.Line2D at 0x7f44c8488050>,\n",
       " <matplotlib.lines.Line2D at 0x7f44c8488190>,\n",
       " <matplotlib.lines.Line2D at 0x7f44c84882d0>,\n",
       " <matplotlib.lines.Line2D at 0x7f44c8488410>,\n",
       " <matplotlib.lines.Line2D at 0x7f44c8488550>]"
      ]
     },
     "execution_count": 17,
     "metadata": {},
     "output_type": "execute_result"
    },
    {
     "data": {
      "image/png": "[encoded data removed]",
      "text/plain": [
       "<Figure size 640x480 with 1 Axes>"
      ]
     },
     "metadata": {},
     "output_type": "display_data"
    }
   ],
   "source": [
    "plt.plot(time_cpus)\n",
    "plt.plot(time_gpus)"
   ]
  },
  {
   "cell_type": "code",
   "execution_count": 13,
   "metadata": {},
   "outputs": [
    {
     "data": {
      "image/png": "[encoded data removed]",
      "text/plain": [
       "<Figure size 640x480 with 1 Axes>"
      ]
     },
     "metadata": {},
     "output_type": "display_data"
    }
   ],
   "source": [
    "# plt.figure(figsize=(10, 8), dpi = 200)\n",
    "plt.plot(np.arange(1000, 10000 + 1000, 1000), time_cpus)\n",
    "plt.plot(np.arange(1000, 10000 + 1000, 1000), time_gpus_min)\n",
    "plt.yscale('log')\n",
    "plt.xticks(fontsize = 15)\n",
    "plt.yticks(fontsize = 15)\n",
    "\n",
    "plt.xlabel('Size of Matrix (N)', fontsize = 20)\n",
    "plt.ylabel('Runtime (seconds)', fontsize = 20)\n",
    "plt.show()"
   ]
  },
  {
   "cell_type": "code",
   "execution_count": 15,
   "metadata": {},
   "outputs": [
    {
     "data": {
      "text/plain": [
       "array([  0.83791184,   3.65940428,  12.46402431,  26.79218268,\n",
       "        51.972543  ,  93.39920974, 148.20135498, 236.64389086,\n",
       "       296.0953753 , 400.47616696])"
      ]
     },
     "execution_count": 15,
     "metadata": {},
     "output_type": "execute_result"
    }
   ],
   "source": [
    "time_cpu_arr"
   ]
  },
  {
   "cell_type": "code",
   "execution_count": 29,
   "metadata": {},
   "outputs": [
    {
     "data": {
      "text/plain": [
       "array([ 0.14971733,  0.51285815,  1.12172174,  2.36266375,  4.07859254,\n",
       "        6.5597043 ,  9.57422233, 13.25166082, 21.05809569, 34.36052513])"
      ]
     },
     "execution_count": 29,
     "metadata": {},
     "output_type": "execute_result"
    }
   ],
   "source": [
    "time_gpu_arr"
   ]
  },
  {
   "cell_type": "code",
   "execution_count": 31,
   "metadata": {},
   "outputs": [
    {
     "data": {
      "text/plain": [
       "array([ 5.59662558,  7.13531463, 11.11151171, 11.33982046, 12.7427642 ,\n",
       "       14.23832621, 15.47920551, 17.85767792, 14.06088089, 11.65512359])"
      ]
     },
     "execution_count": 31,
     "metadata": {},
     "output_type": "execute_result"
    }
   ],
   "source": [
    "speed_up_arr"
   ]
  },
  {
   "cell_type": "code",
   "execution_count": 14,
   "metadata": {},
   "outputs": [
    {
     "data": {
      "image/png": "[encoded data removed]",
      "text/plain": [
       "<Figure size 640x480 with 1 Axes>"
      ]
     },
     "metadata": {},
     "output_type": "display_data"
    }
   ],
   "source": [
    "time_cpu_arr = np.asarray(time_cpus)\n",
    "time_gpu_arr = np.asarray(time_gpus_min)\n",
    "speed_up_arr = time_cpu_arr / time_gpu_arr\n",
    "# plt.figure(figsize=(10, 8), dpi = 200)\n",
    "plt.scatter(np.arange(1000, 10000 + 1000, 1000), speed_up_arr)\n",
    "# plt.yscale('log')\n",
    "plt.xticks(fontsize = 15)\n",
    "plt.yticks(fontsize = 15)\n",
    "# plt.ylim(15,30)\n",
    "plt.xlabel('Size of Matrix (N)', fontsize = 20)\n",
    "plt.ylabel('Runtime (seconds)', fontsize = 20)\n",
    "plt.show()"
   ]
  },
  {
   "cell_type": "code",
   "execution_count": 9,
   "metadata": {},
   "outputs": [
    {
     "data": {
      "text/plain": [
       "array([ 1000,  2000,  3000,  4000,  5000,  6000,  7000,  8000,  9000,\n",
       "       10000])"
      ]
     },
     "execution_count": 9,
     "metadata": {},
     "output_type": "execute_result"
    }
   ],
   "source": [
    "time_cpus = []\n",
    "time_gpus = []\n",
    "for N in tqdm(np.arange(1000, 10000 + 1000, 1000)):\n",
    "    A = 1j*(np.ones(shape = (N,N), dtype = np.complex128) - np.eye(N))\n",
    "    expMator = ExpMatComplex64(N)\n",
    "    time_cpus.append(test_cpu(A))\n",
    "    time_gpus.append(test_gpu(expMator, A))\n",
    "    expMator.free()"
   ]
  },
  {
   "cell_type": "code",
   "execution_count": null,
   "metadata": {},
   "outputs": [],
   "source": []
  },
  {
   "cell_type": "code",
   "execution_count": 56,
   "metadata": {},
   "outputs": [
    {
     "name": "stdout",
     "output_type": "stream",
     "text": [
      "DummyExpMator initialized.\n",
      "--- Measuring CPU Times with psutil ---\n",
      "Starting computation for matrix of shape: (1024, 1024)\n",
      "Calling expMator.run(A) (your C++/CUDA code)...\n",
      "  (Dummy) expMator.run executed.\n",
      "Computation finished.\n",
      "\n",
      "--- Results (from psutil) ---\n",
      "CPU times: user 0.100 s, sys: 0.020 s, total: 0.120 s\n",
      "Wall time: 0.767 s\n"
     ]
    }
   ],
   "source": [
    "import time\n",
    "import psutil\n",
    "import os\n",
    "import numpy as np # For dummy matrix\n",
    "\n",
    "def run_your_expMator_in_python(exp_mator_instance, matrix_A):\n",
    "    \"\"\"\n",
    "    一个模拟你的 expMator.run(A) 的函数，\n",
    "    实际使用时替换为你的 Pybind11 绑定代码。\n",
    "    \"\"\"\n",
    "    print(f\"Starting computation for matrix of shape: {matrix_A.shape}\")\n",
    "    _ = [i * i for i in range(1000000)] # User time\n",
    "    print(\"Calling expMator.run(A) (your C++/CUDA code)...\")\n",
    "    exp_mator_instance.run(matrix_A)\n",
    "    _ = [str(i) for i in range(500000)] # User time\n",
    "    print(\"Computation finished.\")\n",
    "\n",
    "# 创建一个 dummy expMator_instance\n",
    "class DummyExpMator:\n",
    "    def __init__(self):\n",
    "        print(\"DummyExpMator initialized.\")\n",
    "    def run(self, A):\n",
    "        # 模拟 C++/CUDA 操作，包括潜在的系统调用\n",
    "        time.sleep(0.5) # 模拟GPU计算和传输时间\n",
    "        # 模拟系统调用开销\n",
    "        # 制造一些I/O或其他需要内核交互的行为，以增加sys time\n",
    "        # For a more realistic sys time simulation, one might actually open/close files\n",
    "        # or do something that frequently hits the OS kernel.\n",
    "        # Here, just a small sleep for illustration\n",
    "        time.sleep(0.15) # Simulating more system-level waiting/overhead\n",
    "        print(\"  (Dummy) expMator.run executed.\")\n",
    "        return A # Return something if needed\n",
    "\n",
    "# --- 实际使用示例 ---\n",
    "if __name__ == \"__main__\":\n",
    "    expMator_instance = DummyExpMator()\n",
    "    dummy_matrix_A = np.random.rand(1024, 1024).astype(np.complex64)\n",
    "\n",
    "    # 获取当前进程对象\n",
    "    process = psutil.Process(os.getpid())\n",
    "\n",
    "    print(\"--- Measuring CPU Times with psutil ---\")\n",
    "\n",
    "    # 记录开始时的 CPU 时间\n",
    "    cpu_times_before = process.cpu_times()\n",
    "    wall_time_start = time.perf_counter()\n",
    "\n",
    "    # 运行你的代码\n",
    "    run_your_expMator_in_python(expMator_instance, dummy_matrix_A)\n",
    "\n",
    "    # 记录结束时的 CPU 时间\n",
    "    cpu_times_after = process.cpu_times()\n",
    "    wall_time_end = time.perf_counter()\n",
    "\n",
    "    # 计算差值\n",
    "    user_time = cpu_times_after.user - cpu_times_before.user\n",
    "    system_time = cpu_times_after.system - cpu_times_before.system\n",
    "    total_cpu_time = user_time + system_time\n",
    "    wall_time = wall_time_end - wall_time_start\n",
    "\n",
    "    print(f\"\\n--- Results (from psutil) ---\")\n",
    "    print(f\"CPU times: user {user_time:.3f} s, sys: {system_time:.3f} s, total: {total_cpu_time:.3f} s\")\n",
    "    print(f\"Wall time: {wall_time:.3f} s\")"
   ]
  }
 ],
 "metadata": {
  "kernelspec": {
   "display_name": "QWAK_env",
   "language": "python",
   "name": "python3"
  },
  "language_info": {
   "codemirror_mode": {
    "name": "ipython",
    "version": 3
   },
   "file_extension": ".py",
   "mimetype": "text/x-python",
   "name": "python",
   "nbconvert_exporter": "python",
   "pygments_lexer": "ipython3",
   "version": "3.13.2"
  }
 },
 "nbformat": 4,
 "nbformat_minor": 2
}
